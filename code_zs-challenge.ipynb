{
 "cells": [
  {
   "cell_type": "code",
   "execution_count": 44,
   "metadata": {
    "_cell_guid": "1d605181-6ed7-493f-8f3f-dbbf08643a49",
    "_uuid": "880b3957-d7fb-4cf1-996e-0f42269ab6b4"
   },
   "outputs": [],
   "source": [
    "# Importing libraries\n",
    "import numpy as np\n",
    "import pandas as pd\n",
    "# import matplotlib.pyplot as plt\n",
    "# import seaborn as sns"
   ]
  },
  {
   "cell_type": "code",
   "execution_count": 45,
   "metadata": {
    "_cell_guid": "9608c5ba-5ace-49b2-b544-f86814447e58",
    "_uuid": "7f4f02e1-5a84-49fa-b0aa-4f90c4486eda"
   },
   "outputs": [
    {
     "name": "stderr",
     "output_type": "stream",
     "text": [
      "Using TensorFlow backend.\n"
     ]
    }
   ],
   "source": [
    "# from sklearn.model_selection import train_test_split\n",
    "\n",
    "# from keras.preprocessing.text import Tokenizer\n",
    "# from keras.models import Sequential\n",
    "# from keras.layers import Dense,Dropout,Embedding,LSTM,Conv2D,Flatten,MaxPooling2D\n",
    "# from keras.preprocessing.sequence import pad_sequences\n",
    "# from keras.utils import to_categorical"
   ]
  },
  {
   "cell_type": "code",
   "execution_count": 91,
   "metadata": {
    "_cell_guid": "d596113a-5bdd-476b-b2e2-255fff73968e",
    "_uuid": "c21f98d8-2ab6-4f34-9252-bb0aea1d6b62"
   },
   "outputs": [
    {
     "data": {
      "text/plain": [
       "(37288, 3)"
      ]
     },
     "execution_count": 91,
     "metadata": {},
     "output_type": "execute_result"
    }
   ],
   "source": [
    "# reading Dataset and droping features\n",
    "\n",
    "# data = pd.read_csv(\"train_file.csv\")\n",
    "# data = data.drop(columns=['SentimentTitle','SentimentHeadline'],axis=1)\n",
    "# data = data.drop(columns=['IDLink', 'Title', 'Source', 'Topic', 'PublishDate','Facebook', 'GooglePlus', 'LinkedIn'],axis=1)\n",
    "import numpy as np\n",
    "import pandas as pd\n",
    "\n",
    "data = pd.read_csv(\"output.csv\")\n",
    "data.head()\n",
    "def swap(a,b):\n",
    "    temp = pd.DataFrame()\n",
    "    temp = a\n",
    "    a = b\n",
    "    b = temp\n",
    "    return (a,b)\n",
    "data.shape\n",
    "# data.head()"
   ]
  },
  {
   "cell_type": "code",
   "execution_count": 94,
   "metadata": {},
   "outputs": [
    {
     "name": "stderr",
     "output_type": "stream",
     "text": [
      "/usr/lib/python3/dist-packages/ipykernel_launcher.py:16: SettingWithCopyWarning: \n",
      "A value is trying to be set on a copy of a slice from a DataFrame\n",
      "\n",
      "See the caveats in the documentation: http://pandas.pydata.org/pandas-docs/stable/indexing.html#indexing-view-versus-copy\n",
      "  app.launch_new_instance()\n",
      "/usr/lib/python3/dist-packages/ipykernel_launcher.py:17: SettingWithCopyWarning: \n",
      "A value is trying to be set on a copy of a slice from a DataFrame\n",
      "\n",
      "See the caveats in the documentation: http://pandas.pydata.org/pandas-docs/stable/indexing.html#indexing-view-versus-copy\n"
     ]
    }
   ],
   "source": [
    "p1 = pd.DataFrame()\n",
    "p4 = pd.DataFrame()\n",
    "p3 = pd.DataFrame()\n",
    "p2 = pd.DataFrame()\n",
    "\n",
    "p1 = data['SentimentTitle']\n",
    "p2 = data['SentimentHeadline']\n",
    "#p1 = p1.values.tolist()\n",
    "#p4 = p4.values.tolist()\n",
    "#replace = dict(zip(set(p1),set(p4)))\n",
    "#data.replace(list(range(5288)), p4)\n",
    "#df.replace([0, 1, 2, 3], [4, 3, 2, 1])\n",
    "#df.replace({'a' : { 'Medium' : 2, 'Small' : 1, 'High' : 3 }})\n",
    "#data.replace({'SentimentTitle': replace})\n",
    "\n",
    "data['SentimentTitle'][1000:15000], data['SentimentHeadline'][1000:15000]= p2[1000:15000], p1[1000:15000]\n",
    "data['SentimentHeadline'][25000:], data['SentimentTitle'][25000:] = p1[25000:], p2[25000:]\n",
    "data.head()\n",
    "# data.iloc[:5288,1] = p4\n",
    "# data.iloc[32000:,2] = p3\n",
    "# data.iloc[32000:,1] = p2\n",
    "# data.iloc[:5288,2] = p1\n",
    "\n",
    "# p4.replace = p2\n",
    "# p3.replace = p4\n",
    "# data.head()\n",
    "\n",
    "\n",
    "# (data.iloc[32000:,1],data.iloc[:5288,2]) = (data.iloc[:5288,2], data.iloc[32000:,1])\n",
    "# (data.iloc[:5288,1],data.iloc[32000:,2]) = (data.iloc[32000:,2], data.iloc[:5288,1])\n",
    "# data.iloc[:5288,1] = data.iloc[32000:,2]\n",
    "\n",
    "data.to_csv(\"output4.csv\", index=False )\n",
    "\n",
    "\n",
    "\n",
    "\n"
   ]
  },
  {
   "cell_type": "code",
   "execution_count": 77,
   "metadata": {},
   "outputs": [],
   "source": [
    "data = pd.read_csv(\"output1.csv\")"
   ]
  },
  {
   "cell_type": "code",
   "execution_count": 33,
   "metadata": {},
   "outputs": [
    {
     "data": {
      "text/html": [
       "<div>\n",
       "<style scoped>\n",
       "    .dataframe tbody tr th:only-of-type {\n",
       "        vertical-align: middle;\n",
       "    }\n",
       "\n",
       "    .dataframe tbody tr th {\n",
       "        vertical-align: top;\n",
       "    }\n",
       "\n",
       "    .dataframe thead th {\n",
       "        text-align: right;\n",
       "    }\n",
       "</style>\n",
       "<table border=\"1\" class=\"dataframe\">\n",
       "  <thead>\n",
       "    <tr style=\"text-align: right;\">\n",
       "      <th></th>\n",
       "      <th>IDLink</th>\n",
       "      <th>Title</th>\n",
       "      <th>Headline</th>\n",
       "      <th>Source</th>\n",
       "      <th>Topic</th>\n",
       "      <th>PublishDate</th>\n",
       "      <th>Facebook</th>\n",
       "      <th>GooglePlus</th>\n",
       "      <th>LinkedIn</th>\n",
       "      <th>SentimentTitle</th>\n",
       "      <th>SentimentHeadline</th>\n",
       "    </tr>\n",
       "  </thead>\n",
       "  <tbody>\n",
       "    <tr>\n",
       "      <th>0</th>\n",
       "      <td>Tr3CMgRv1N</td>\n",
       "      <td>Obama Lays Wreath at Arlington National Cemetery</td>\n",
       "      <td>Obama Lays Wreath at Arlington National Cemete...</td>\n",
       "      <td>USA TODAY</td>\n",
       "      <td>obama</td>\n",
       "      <td>2002-04-02 00:00:00</td>\n",
       "      <td>-1</td>\n",
       "      <td>-1</td>\n",
       "      <td>-1</td>\n",
       "      <td>0.000000</td>\n",
       "      <td>-0.053300</td>\n",
       "    </tr>\n",
       "    <tr>\n",
       "      <th>1</th>\n",
       "      <td>Wc81vGp8qZ</td>\n",
       "      <td>A Look at the Health of the Chinese Economy</td>\n",
       "      <td>Tim Haywood, investment director business-unit...</td>\n",
       "      <td>Bloomberg</td>\n",
       "      <td>economy</td>\n",
       "      <td>2008-09-20 00:00:00</td>\n",
       "      <td>-1</td>\n",
       "      <td>-1</td>\n",
       "      <td>-1</td>\n",
       "      <td>0.208333</td>\n",
       "      <td>-0.156386</td>\n",
       "    </tr>\n",
       "    <tr>\n",
       "      <th>2</th>\n",
       "      <td>zNGH03CrZH</td>\n",
       "      <td>Nouriel Roubini: Global Economy Not Back to 2008</td>\n",
       "      <td>Nouriel Roubini, NYU professor and chairman at...</td>\n",
       "      <td>Bloomberg</td>\n",
       "      <td>economy</td>\n",
       "      <td>2012-01-28 00:00:00</td>\n",
       "      <td>-1</td>\n",
       "      <td>-1</td>\n",
       "      <td>-1</td>\n",
       "      <td>-0.425210</td>\n",
       "      <td>0.139754</td>\n",
       "    </tr>\n",
       "    <tr>\n",
       "      <th>3</th>\n",
       "      <td>3sM1H0W8ts</td>\n",
       "      <td>Finland GDP Expands In Q4</td>\n",
       "      <td>Finland's economy expanded marginally in the t...</td>\n",
       "      <td>RTT News</td>\n",
       "      <td>economy</td>\n",
       "      <td>2015-03-01 00:06:00</td>\n",
       "      <td>-1</td>\n",
       "      <td>-1</td>\n",
       "      <td>-1</td>\n",
       "      <td>0.000000</td>\n",
       "      <td>0.026064</td>\n",
       "    </tr>\n",
       "    <tr>\n",
       "      <th>4</th>\n",
       "      <td>wUbnxgvqaZ</td>\n",
       "      <td>Tourism, govt spending buoys Thai economy in J...</td>\n",
       "      <td>Tourism and public spending continued to boost...</td>\n",
       "      <td>The Nation - Thailand&amp;#39;s English news</td>\n",
       "      <td>economy</td>\n",
       "      <td>2015-03-01 00:11:00</td>\n",
       "      <td>-1</td>\n",
       "      <td>-1</td>\n",
       "      <td>-1</td>\n",
       "      <td>0.000000</td>\n",
       "      <td>0.141084</td>\n",
       "    </tr>\n",
       "  </tbody>\n",
       "</table>\n",
       "</div>"
      ],
      "text/plain": [
       "       IDLink                                              Title  \\\n",
       "0  Tr3CMgRv1N   Obama Lays Wreath at Arlington National Cemetery   \n",
       "1  Wc81vGp8qZ        A Look at the Health of the Chinese Economy   \n",
       "2  zNGH03CrZH   Nouriel Roubini: Global Economy Not Back to 2008   \n",
       "3  3sM1H0W8ts                          Finland GDP Expands In Q4   \n",
       "4  wUbnxgvqaZ  Tourism, govt spending buoys Thai economy in J...   \n",
       "\n",
       "                                            Headline  \\\n",
       "0  Obama Lays Wreath at Arlington National Cemete...   \n",
       "1  Tim Haywood, investment director business-unit...   \n",
       "2  Nouriel Roubini, NYU professor and chairman at...   \n",
       "3  Finland's economy expanded marginally in the t...   \n",
       "4  Tourism and public spending continued to boost...   \n",
       "\n",
       "                                     Source    Topic          PublishDate  \\\n",
       "0                                 USA TODAY    obama  2002-04-02 00:00:00   \n",
       "1                                 Bloomberg  economy  2008-09-20 00:00:00   \n",
       "2                                 Bloomberg  economy  2012-01-28 00:00:00   \n",
       "3                                  RTT News  economy  2015-03-01 00:06:00   \n",
       "4  The Nation - Thailand&#39;s English news  economy  2015-03-01 00:11:00   \n",
       "\n",
       "   Facebook  GooglePlus  LinkedIn  SentimentTitle  SentimentHeadline  \n",
       "0        -1          -1        -1        0.000000          -0.053300  \n",
       "1        -1          -1        -1        0.208333          -0.156386  \n",
       "2        -1          -1        -1       -0.425210           0.139754  \n",
       "3        -1          -1        -1        0.000000           0.026064  \n",
       "4        -1          -1        -1        0.000000           0.141084  "
      ]
     },
     "execution_count": 33,
     "metadata": {},
     "output_type": "execute_result"
    }
   ],
   "source": [
    "data.head()"
   ]
  },
  {
   "cell_type": "code",
   "execution_count": null,
   "metadata": {},
   "outputs": [],
   "source": []
  },
  {
   "cell_type": "code",
   "execution_count": 34,
   "metadata": {
    "_cell_guid": "2467e6c6-1217-47ae-b8b7-d797bbf37130",
    "_uuid": "f5ba389a-c7fd-4921-bf87-d35acd65ac2e"
   },
   "outputs": [],
   "source": [
    "x_train = data\n",
    "y_train = data(columns=[['SentimentTitle','SentimentHeadline']])"
   ]
  },
  {
   "cell_type": "code",
   "execution_count": 35,
   "metadata": {
    "_cell_guid": "26302349-da0c-44ed-b895-9041704b608f",
    "_uuid": "09bd0799-d12e-4085-b300-393ae5349e2e"
   },
   "outputs": [
    {
     "data": {
      "text/plain": [
       "array([[   0,    0,    0, ...,    1,    2, 2543],\n",
       "       [   0,    0,    0, ...,    3,    1,   10],\n",
       "       [   0,    0,    0, ...,    1,  485, 1047],\n",
       "       ...,\n",
       "       [   0,    0,    0, ...,    2,   37,  442],\n",
       "       [   0,    0,    0, ...,   68, 1716,  436],\n",
       "       [   0,    0,    0, ..., 1723,  152,    6]], dtype=int32)"
      ]
     },
     "execution_count": 35,
     "metadata": {},
     "output_type": "execute_result"
    }
   ],
   "source": [
    "# Preprocessing the dataset\n",
    "tokenizer = Tokenizer(num_words=15000)\n",
    "tokenizer.fit_on_texts(list(x_train))\n",
    "\n",
    "X_train = tokenizer.texts_to_sequences(x_train)\n",
    "X_train = pad_sequences(X_train, maxlen=150)\n",
    "X_train"
   ]
  },
  {
   "cell_type": "code",
   "execution_count": 36,
   "metadata": {
    "_cell_guid": "01d75c7c-15d6-4688-8583-ae669d65c7b5",
    "_uuid": "bc9c128f-3728-4106-8b61-7f8cd8cd3f5e"
   },
   "outputs": [],
   "source": [
    "y_train=np.array(y_train).reshape((55932,1))"
   ]
  },
  {
   "cell_type": "code",
   "execution_count": 37,
   "metadata": {
    "_cell_guid": "e2305d1d-5c24-437c-b453-4460c44f435e",
    "_uuid": "9918c46e-1c21-41ed-a657-3f372b142468"
   },
   "outputs": [],
   "source": [
    "train_x, val_x, train_y, val_y = train_test_split(X_train, y_train, test_size=0.2)"
   ]
  },
  {
   "cell_type": "code",
   "execution_count": 38,
   "metadata": {
    "_cell_guid": "4bbfec18-49f8-44fe-ab67-59cfd3abc8b9",
    "_uuid": "275c371f-1dbd-4c62-bb1f-253cfd49c2b4"
   },
   "outputs": [
    {
     "name": "stdout",
     "output_type": "stream",
     "text": [
      "Model: \"sequential_1\"\n",
      "_________________________________________________________________\n",
      "Layer (type)                 Output Shape              Param #   \n",
      "=================================================================\n",
      "embedding_1 (Embedding)      (None, None, 512)         7680000   \n",
      "_________________________________________________________________\n",
      "lstm_1 (LSTM)                (None, None, 512)         2099200   \n",
      "_________________________________________________________________\n",
      "lstm_2 (LSTM)                (None, 256)               787456    \n",
      "_________________________________________________________________\n",
      "dense_1 (Dense)              (None, 1)                 257       \n",
      "=================================================================\n",
      "Total params: 10,566,913\n",
      "Trainable params: 10,566,913\n",
      "Non-trainable params: 0\n",
      "_________________________________________________________________\n"
     ]
    }
   ],
   "source": [
    "# Creating a LSTM model\n",
    "model=Sequential()\n",
    "model.add(Embedding(15000,512,mask_zero=True))\n",
    "model.add(LSTM(512,dropout=0.1, recurrent_dropout=0.1,return_sequences=True))\n",
    "model.add(LSTM(256,dropout=0.1, recurrent_dropout=0.1,return_sequences=False))\n",
    "model.add(Dense(1,activation='softmax'))\n",
    "model.compile(loss='mean_squared_error',optimizer='Adam',metrics=['mean_squared_error'])\n",
    "# model.compile(loss='binary_crossentropy',optimizer='rmsprop',metrics=['accuracy'])\n",
    "model.summary()"
   ]
  },
  {
   "cell_type": "code",
   "execution_count": 39,
   "metadata": {
    "_cell_guid": "1131e32e-1929-4afb-adbe-27d299277da1",
    "_uuid": "5e8b3e16-d294-4218-9250-aba3bdbde036"
   },
   "outputs": [
    {
     "name": "stderr",
     "output_type": "stream",
     "text": [
      "/opt/conda/lib/python3.6/site-packages/tensorflow_core/python/framework/indexed_slices.py:433: UserWarning: Converting sparse IndexedSlices to a dense Tensor of unknown shape. This may consume a large amount of memory.\n",
      "  \"Converting sparse IndexedSlices to a dense Tensor of unknown shape. \"\n"
     ]
    },
    {
     "name": "stdout",
     "output_type": "stream",
     "text": [
      "Train on 2000 samples, validate on 11187 samples\n",
      "Epoch 1/4\n",
      "2000/2000 [==============================] - 19s 10ms/step - loss: 1.0940 - mean_squared_error: 1.0940 - val_loss: 1.0846 - val_mean_squared_error: 1.0846\n",
      "Epoch 2/4\n",
      "2000/2000 [==============================] - 17s 9ms/step - loss: 1.0940 - mean_squared_error: 1.0940 - val_loss: 1.0846 - val_mean_squared_error: 1.0846\n",
      "Epoch 3/4\n",
      "2000/2000 [==============================] - 18s 9ms/step - loss: 1.0940 - mean_squared_error: 1.0940 - val_loss: 1.0846 - val_mean_squared_error: 1.0846\n",
      "Epoch 4/4\n",
      "2000/2000 [==============================] - 17s 8ms/step - loss: 1.0940 - mean_squared_error: 1.0940 - val_loss: 1.0846 - val_mean_squared_error: 1.0846\n"
     ]
    },
    {
     "data": {
      "text/plain": [
       "<keras.callbacks.callbacks.History at 0x7f5699089fd0>"
      ]
     },
     "execution_count": 39,
     "metadata": {},
     "output_type": "execute_result"
    }
   ],
   "source": [
    "# Fitting the dataset into the model\n",
    "model.fit(train_x[:2000], train_y[:2000], validation_data=(val_x, val_y), epochs=4, batch_size=128, verbose=1)"
   ]
  },
  {
   "cell_type": "code",
   "execution_count": 0,
   "metadata": {
    "_cell_guid": "cfd565a6-3d3e-4218-b2df-e6a2524c6d8e",
    "_uuid": "da2685fc-4a99-463c-b0c9-c86758637a72"
   },
   "outputs": [],
   "source": [
    "test = pd.read_csv(\"test_file.csv\")\n",
    "# test = data.drop(columns=['IDLink', 'Title', 'Source', 'Topic', 'PublishDate','Facebook', 'GooglePlus', 'LinkedIn'],axis=1)"
   ]
  },
  {
   "cell_type": "code",
   "execution_count": null,
   "metadata": {},
   "outputs": [],
   "source": [
    "test = tokenizer.texts_to_sequences(test['Headline'])\n",
    "x_test = pad_sequences(test, maxlen=150)"
   ]
  },
  {
   "cell_type": "code",
   "execution_count": 0,
   "metadata": {
    "_cell_guid": "3e61bea6-6658-4be6-8b68-93b32a7fb424",
    "_uuid": "6d11adbb-f877-44d6-95de-52390a3859fc"
   },
   "outputs": [],
   "source": [
    "y = model.predict(x_test)\n",
    "y = np.argmax(y, axis=1)"
   ]
  },
  {
   "cell_type": "code",
   "execution_count": 0,
   "metadata": {
    "_cell_guid": "709b039f-d896-4a12-bf7a-327a4856f321",
    "_uuid": "71b98daa-e549-4e8d-ab89-0a13200d3224"
   },
   "outputs": [],
   "source": [
    "# Download predictive value\n",
    "sub = pd.DataFrame()\n",
    "sub['SentimentHeadline'] = y\n",
    "sub.to_csv('output.csv', index=False)"
   ]
  }
 ],
 "metadata": {
  "kernelspec": {
   "display_name": "Python 3",
   "language": "python",
   "name": "python3"
  },
  "language_info": {
   "codemirror_mode": {
    "name": "ipython",
    "version": 3
   },
   "file_extension": ".py",
   "mimetype": "text/x-python",
   "name": "python",
   "nbconvert_exporter": "python",
   "pygments_lexer": "ipython3",
   "version": "3.6.8"
  }
 },
 "nbformat": 4,
 "nbformat_minor": 4
}
